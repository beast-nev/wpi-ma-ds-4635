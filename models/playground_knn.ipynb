{
 "cells": [
  {
   "cell_type": "code",
   "execution_count": 3,
   "id": "ad2fe58f",
   "metadata": {},
   "outputs": [
    {
     "name": "stderr",
     "output_type": "stream",
     "text": [
      "C:\\Users\\Calvin\\AppData\\Local\\Temp/ipykernel_26408/4280376133.py:43: PerformanceWarning: DataFrame is highly fragmented.  This is usually the result of calling `frame.insert` many times, which has poor performance.  Consider joining all columns at once using pd.concat(axis=1) instead.  To get a de-fragmented frame, use `newframe = frame.copy()`\n",
      "  x_train[i+\"_sum\"] = x_train_load[i].groupby(\n",
      "C:\\Users\\Calvin\\AppData\\Local\\Temp/ipykernel_26408/4280376133.py:45: PerformanceWarning: DataFrame is highly fragmented.  This is usually the result of calling `frame.insert` many times, which has poor performance.  Consider joining all columns at once using pd.concat(axis=1) instead.  To get a de-fragmented frame, use `newframe = frame.copy()`\n",
      "  x_train[i+\"_median\"] = x_train_load[i].groupby(\n",
      "C:\\Users\\Calvin\\AppData\\Local\\Temp/ipykernel_26408/4280376133.py:47: PerformanceWarning: DataFrame is highly fragmented.  This is usually the result of calling `frame.insert` many times, which has poor performance.  Consider joining all columns at once using pd.concat(axis=1) instead.  To get a de-fragmented frame, use `newframe = frame.copy()`\n",
      "  x_train[i+\"_q1\"] = x_train_load[i].groupby(\n",
      "C:\\Users\\Calvin\\AppData\\Local\\Temp/ipykernel_26408/4280376133.py:49: PerformanceWarning: DataFrame is highly fragmented.  This is usually the result of calling `frame.insert` many times, which has poor performance.  Consider joining all columns at once using pd.concat(axis=1) instead.  To get a de-fragmented frame, use `newframe = frame.copy()`\n",
      "  x_train[i+\"_q3\"] = x_train_load[i].groupby(\n",
      "C:\\Users\\Calvin\\AppData\\Local\\Temp/ipykernel_26408/4280376133.py:60: PerformanceWarning: DataFrame is highly fragmented.  This is usually the result of calling `frame.insert` many times, which has poor performance.  Consider joining all columns at once using pd.concat(axis=1) instead.  To get a de-fragmented frame, use `newframe = frame.copy()`\n",
      "  x_test[i+\"_sum\"] = x_test_load[i].groupby(\n",
      "C:\\Users\\Calvin\\AppData\\Local\\Temp/ipykernel_26408/4280376133.py:62: PerformanceWarning: DataFrame is highly fragmented.  This is usually the result of calling `frame.insert` many times, which has poor performance.  Consider joining all columns at once using pd.concat(axis=1) instead.  To get a de-fragmented frame, use `newframe = frame.copy()`\n",
      "  x_test[i+\"_median\"] = x_test_load[i].groupby(\n",
      "C:\\Users\\Calvin\\AppData\\Local\\Temp/ipykernel_26408/4280376133.py:64: PerformanceWarning: DataFrame is highly fragmented.  This is usually the result of calling `frame.insert` many times, which has poor performance.  Consider joining all columns at once using pd.concat(axis=1) instead.  To get a de-fragmented frame, use `newframe = frame.copy()`\n",
      "  x_test[i+\"_q1\"] = x_test_load[i].groupby(\n",
      "C:\\Users\\Calvin\\AppData\\Local\\Temp/ipykernel_26408/4280376133.py:66: PerformanceWarning: DataFrame is highly fragmented.  This is usually the result of calling `frame.insert` many times, which has poor performance.  Consider joining all columns at once using pd.concat(axis=1) instead.  To get a de-fragmented frame, use `newframe = frame.copy()`\n",
      "  x_test[i+\"_q3\"] = x_test_load[i].groupby(\n"
     ]
    },
    {
     "name": "stdout",
     "output_type": "stream",
     "text": [
      "Finished feature selection\n",
      "Accuracy:  0.7245069467569899\n",
      "Average precision score:  0.7707223302009202\n",
      "Roc score:  0.8219910392577545\n",
      "Done\n"
     ]
    }
   ],
   "source": [
    "import os\n",
    "from statistics import mode\n",
    "import numpy as np\n",
    "import pandas as pd\n",
    "from sklearn.preprocessing import StandardScaler\n",
    "from sklearn.neighbors import NeighborhoodComponentsAnalysis\n",
    "from sklearn.model_selection import cross_val_score\n",
    "from sklearn.metrics import roc_auc_score, average_precision_score\n",
    "\n",
    "x_train_load = pd.read_csv('train.csv')\n",
    "x_test_load = pd.read_csv('test.csv')\n",
    "y_train_load = pd.read_csv('train_labels.csv')\n",
    "y_train = y_train_load.loc[:, y_train_load.columns != 'sequence']\n",
    "sensor_names = [\"sensor_00\", \"sensor_01\", \"sensor_02\", \"sensor_03\", \"sensor_04\", \"sensor_05\", \"sensor_06\",\n",
    "                \"sensor_07\", \"sensor_08\", \"sensor_09\", \"sensor_10\", \"sensor_11\", \"sensor_12\"]\n",
    "submission = pd.DataFrame(\n",
    "    columns=[\"sequence\"], data=x_test_load[[\"sequence\"]].groupby(np.arange(len(x_test_load[[\"sequence\"]])) // 60).mean())\n",
    "x_train = pd.DataFrame()\n",
    "x_test = pd.DataFrame()\n",
    "\n",
    "for i in sensor_names:\n",
    "    x_train[i+\"_mean\"] = x_train_load[i].groupby(\n",
    "        np.arange(len(x_train_load[i])) // 60).mean()\n",
    "    x_train[i+\"_std\"] = x_train_load[i].groupby(\n",
    "        np.arange(len(x_train_load[i])) // 60).std()\n",
    "    x_train[i+\"_max\"] = x_train_load[i].groupby(\n",
    "        np.arange(len(x_train_load[i])) // 60).max()\n",
    "    x_train[i+\"_min\"] = x_train_load[i].groupby(\n",
    "        np.arange(len(x_train_load[i])) // 60).min()\n",
    "    x_train[i+\"_sum\"] = x_train_load[i].groupby(\n",
    "        np.arange(len(x_train_load[i])) // 60).sum()\n",
    "    x_train[i+\"_median\"] = x_train_load[i].groupby(\n",
    "        np.arange(len(x_train_load[i])) // 60).median()\n",
    "    x_train[i+\"_q1\"] = x_train_load[i].groupby(\n",
    "        np.arange(len(x_train_load[i])) // 60).quantile(0.25)\n",
    "    x_train[i+\"_q3\"] = x_train_load[i].groupby(\n",
    "        np.arange(len(x_train_load[i])) // 60).quantile(0.75)\n",
    "\n",
    "    x_test[i+\"_mean\"] = x_test_load[i].groupby(\n",
    "        np.arange(len(x_test_load[i])) // 60).mean()\n",
    "    x_test[i+\"_std\"] = x_test_load[i].groupby(\n",
    "        np.arange(len(x_test_load[i])) // 60).std()\n",
    "    x_test[i+\"_max\"] = x_test_load[i].groupby(\n",
    "        np.arange(len(x_test_load[i])) // 60).max()\n",
    "    x_test[i+\"_min\"] = x_test_load[i].groupby(\n",
    "        np.arange(len(x_test_load[i])) // 60).min()\n",
    "    x_test[i+\"_sum\"] = x_test_load[i].groupby(\n",
    "        np.arange(len(x_test_load[i])) // 60).sum()\n",
    "    x_test[i+\"_median\"] = x_test_load[i].groupby(\n",
    "        np.arange(len(x_test_load[i])) // 60).median()\n",
    "    x_test[i+\"_q1\"] = x_test_load[i].groupby(\n",
    "        np.arange(len(x_test_load[i])) // 60).quantile(0.25)\n",
    "    x_test[i+\"_q3\"] = x_test_load[i].groupby(\n",
    "        np.arange(len(x_test_load[i])) // 60).quantile(0.75)\n",
    "scaler = StandardScaler()\n",
    "x_train = scaler.fit_transform(x_train)\n",
    "x_test = scaler.fit_transform(x_test)\n",
    "model = KNeighborsClassifier(n_neighbors=5, n_jobs=-1)\n",
    "model.fit(x_train, y_train.values.ravel())\n",
    "print(\"Accuracy: \", np.mean(cross_val_score(\n",
    "    model, x_train, y_train.values.ravel(), cv=5, n_jobs=-1)))\n",
    "model.fit(x_train, y_train.values.ravel())\n",
    "\n",
    "y_pred_train = model.predict(x_train)\n",
    "\n",
    "print(\"Average precision score: \", average_precision_score(y_train, y_pred_train))\n",
    "print(\"Roc score: \", roc_auc_score(y_train, y_pred_train))\n",
    "y_pred = model.predict(x_test)\n",
    "submission[\"state\"] = y_pred\n",
    "submission.to_csv('playground_knn_out.csv', index=False)\n",
    "print(\"Done\")"
   ]
  },
  {
   "cell_type": "code",
   "execution_count": null,
   "id": "3c0e6c64",
   "metadata": {},
   "outputs": [],
   "source": []
  }
 ],
 "metadata": {
  "kernelspec": {
   "display_name": "Python 3 (ipykernel)",
   "language": "python",
   "name": "python3"
  },
  "language_info": {
   "codemirror_mode": {
    "name": "ipython",
    "version": 3
   },
   "file_extension": ".py",
   "mimetype": "text/x-python",
   "name": "python",
   "nbconvert_exporter": "python",
   "pygments_lexer": "ipython3",
   "version": "3.9.7"
  }
 },
 "nbformat": 4,
 "nbformat_minor": 5
}
